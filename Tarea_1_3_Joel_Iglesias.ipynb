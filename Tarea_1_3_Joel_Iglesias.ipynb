{
  "nbformat": 4,
  "nbformat_minor": 0,
  "metadata": {
    "colab": {
      "provenance": [],
      "authorship_tag": "ABX9TyPFiqat+eV4Z5kkbSn9ru5h",
      "include_colab_link": true
    },
    "kernelspec": {
      "name": "python3",
      "display_name": "Python 3"
    },
    "language_info": {
      "name": "python"
    }
  },
  "cells": [
    {
      "cell_type": "markdown",
      "metadata": {
        "id": "view-in-github",
        "colab_type": "text"
      },
      "source": [
        "<a href=\"https://colab.research.google.com/github/Jigmar/hello-world/blob/main/Tarea_1_3_Joel_Iglesias.ipynb\" target=\"_parent\"><img src=\"https://colab.research.google.com/assets/colab-badge.svg\" alt=\"Open In Colab\"/></a>"
      ]
    },
    {
      "cell_type": "markdown",
      "source": [
        "1. **Escribir un programa que imprima la palabra 'Hola'**"
      ],
      "metadata": {
        "id": "lRCVct9cpVRN"
      }
    },
    {
      "cell_type": "code",
      "execution_count": null,
      "metadata": {
        "colab": {
          "base_uri": "https://localhost:8080/"
        },
        "id": "4zSm9vCRjcAM",
        "outputId": "e0e03ebd-d087-4a5b-83ec-fcbe7fb7c878"
      },
      "outputs": [
        {
          "output_type": "stream",
          "name": "stdout",
          "text": [
            "Hola\n"
          ]
        }
      ],
      "source": [
        "print('Hola')"
      ]
    },
    {
      "cell_type": "markdown",
      "source": [
        "2. **Escribir un programa donde la palabra 'Hola' este guardada en una variable, e imprimir esa variable.**"
      ],
      "metadata": {
        "id": "Ncvv8dv2pbe8"
      }
    },
    {
      "cell_type": "code",
      "source": [
        "x = \"Hola\"\n",
        "print(x)"
      ],
      "metadata": {
        "colab": {
          "base_uri": "https://localhost:8080/"
        },
        "id": "N5zmcFHqjmAO",
        "outputId": "d7744aae-1502-493e-afe0-cd056972d450"
      },
      "execution_count": null,
      "outputs": [
        {
          "output_type": "stream",
          "name": "stdout",
          "text": [
            "Hola\n"
          ]
        }
      ]
    },
    {
      "cell_type": "markdown",
      "source": [
        "3. **Escribir un programa que sume los números 1+2 y eleve el resultado al cuadrado**"
      ],
      "metadata": {
        "id": "9ouhFp3DpcfM"
      }
    },
    {
      "cell_type": "code",
      "source": [
        "calcular = (1+2)**2\n",
        "print(calcular)"
      ],
      "metadata": {
        "colab": {
          "base_uri": "https://localhost:8080/"
        },
        "id": "NBJ40kZokDze",
        "outputId": "b0f8516d-ddd5-479b-e4a0-1b7e033255a4"
      },
      "execution_count": null,
      "outputs": [
        {
          "output_type": "stream",
          "name": "stdout",
          "text": [
            "9\n"
          ]
        }
      ]
    },
    {
      "cell_type": "markdown",
      "source": [
        "4. **Escribir un programa que pregunte al usuario por dos números (first_number, second_number), cree una  variable (sum) que represente la suma de ambos, e imprima el valor de esta variable al cubo.**"
      ],
      "metadata": {
        "id": "P5T0yDSYpdBE"
      }
    },
    {
      "cell_type": "code",
      "source": [
        "first_number = input(\"Escriba un número: \")\n",
        "second_number = input(\"Escriba otro número: \")\n",
        "sum = int(first_number) + int(second_number)\n",
        "print(sum**3)"
      ],
      "metadata": {
        "colab": {
          "base_uri": "https://localhost:8080/"
        },
        "id": "UtWynqD0kXqN",
        "outputId": "8578c155-4fda-435e-f7c9-ffde29939ba4"
      },
      "execution_count": null,
      "outputs": [
        {
          "output_type": "stream",
          "name": "stdout",
          "text": [
            "Escriba un número: 1\n",
            "Escriba otro número: 2\n",
            "27\n"
          ]
        }
      ]
    },
    {
      "cell_type": "markdown",
      "source": [
        "5. **Escribir un programa que cree una variable que sea una frase, por ejemplo Stranger Things, otra variable  que sea un número entero, por ejemplo 3, y otra variable que represente la suma de las dos primeras variables. Imprimir el valor de esta última variable (el resultado deberia ser Stranger Things 3)**"
      ],
      "metadata": {
        "id": "zIhdomD4pd6E"
      }
    },
    {
      "cell_type": "code",
      "source": [
        "serie = \"Stranger Things \"\n",
        "temporada = 3\n",
        "estreno = serie + str(temporada)\n",
        "print(estreno)\n"
      ],
      "metadata": {
        "colab": {
          "base_uri": "https://localhost:8080/"
        },
        "id": "rNhyBNJfnawi",
        "outputId": "b6696025-f59a-48cf-f4b3-90a88bac2e0c"
      },
      "execution_count": null,
      "outputs": [
        {
          "output_type": "stream",
          "name": "stdout",
          "text": [
            "Stranger Things 3\n"
          ]
        }
      ]
    },
    {
      "cell_type": "code",
      "source": [],
      "metadata": {
        "id": "JXv7gu_8qjNV"
      },
      "execution_count": null,
      "outputs": []
    }
  ]
}